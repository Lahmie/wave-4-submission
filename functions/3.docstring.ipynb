def readable_timedelta(days):
    # insert your docstring here
    """calculate the number of weeks and days of a certain number of days.
    input: int. the number of days to be calculated.
    output:int. floor division of number of days into weeks and remainder days
     """

    weeks = days // 7
    remainder = days % 7
    return "{} week(s) and {} day(s)".format(weeks, remainder)