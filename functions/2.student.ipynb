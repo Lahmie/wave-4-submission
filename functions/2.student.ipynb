#Write a function named readable_timedelta. The function should take one argument, an integer days, and return a string 
#that says how many weeks and days that is. For example, calling the function and printing the result like this:

#print(readable_timedelta(10))

#should output the following:

#1 week(s) and 3 day(s).


# write your function here
def readable_timedelta(x):
    no_of_weeks = x // 7
    no_of_days = x % 7
    return str(no_of_weeks) + " week(s) and " + str(no_of_days) + " day(s)"


# test your function
print(readable_timedelta(10))